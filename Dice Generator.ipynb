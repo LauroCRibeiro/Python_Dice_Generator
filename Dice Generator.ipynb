{
 "cells": [
  {
   "cell_type": "code",
   "execution_count": 2,
   "metadata": {},
   "outputs": [],
   "source": [
    "# Simulador de dado - Simular o uso de um dado gerando um valor de 1 ate 6"
   ]
  },
  {
   "cell_type": "code",
   "execution_count": null,
   "metadata": {},
   "outputs": [],
   "source": [
    "import random\n",
    "\n",
    "class SimuladorDeDado:\n",
    "    def __init__(self):\n",
    "        self.valor_minimo= 1\n",
    "        self.valor_maximo= 6\n",
    "        self.mensagem = 'Would you like to roll the Dice?'\n",
    "        \n",
    "    def Iniciar(self):\n",
    "        resposta = input(self.mensagem)\n",
    "        try:\n",
    "            if resposta == 'yes' or resposta == 'y':\n",
    "                self.GerarValorDoDado()\n",
    "            elif resposta == 'no' or resposta == 'n': \n",
    "                print('Ok, Thank you for participating!')\n",
    "            else:\n",
    "                print(\"Please type yes or no\")\n",
    "                simulador.Iniciar()\n",
    "        except:\n",
    "            print('Error!! We need you to choose an option, Please!')\n",
    "            \n",
    "    def GerarValorDoDado(self):\n",
    "        print('That is your number: ', random.randint(self.valor_minimo, self.valor_maximo))\n",
    "        \n",
    "        \n",
    "        \n",
    "\n",
    "        \n",
    "simulador = SimuladorDeDado()\n",
    "simulador.Iniciar()"
   ]
  }
 ],
 "metadata": {
  "kernelspec": {
   "display_name": "Python 3",
   "language": "python",
   "name": "python3"
  },
  "language_info": {
   "codemirror_mode": {
    "name": "ipython",
    "version": 3
   },
   "file_extension": ".py",
   "mimetype": "text/x-python",
   "name": "python",
   "nbconvert_exporter": "python",
   "pygments_lexer": "ipython3",
   "version": "3.7.0"
  }
 },
 "nbformat": 4,
 "nbformat_minor": 2
}
